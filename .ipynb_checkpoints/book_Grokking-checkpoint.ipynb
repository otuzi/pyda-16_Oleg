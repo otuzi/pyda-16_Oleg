{
 "cells": [
  {
   "cell_type": "markdown",
   "id": "d85ae23d",
   "metadata": {},
   "source": [
    "# Книга грокаем глубокое обучение (Grokking Deep Learning)"
   ]
  },
  {
   "cell_type": "markdown",
   "id": "2c2d8595",
   "metadata": {},
   "source": [
    "## Глава 3\n",
    "### ВВедение в нейронное прогнозирование"
   ]
  },
  {
   "cell_type": "markdown",
   "id": "85938711",
   "metadata": {},
   "source": [
    "**Первая нейронная сеть:**"
   ]
  },
  {
   "cell_type": "markdown",
   "id": "aeba8f52",
   "metadata": {},
   "source": [
    "**Сеть:** "
   ]
  },
  {
   "cell_type": "code",
   "execution_count": 4,
   "id": "9c286e1d",
   "metadata": {},
   "outputs": [],
   "source": [
    "weight = 0.1\n",
    "def neural_network(input, weight):\n",
    "    prediction = input * weight\n",
    "    return prediction"
   ]
  },
  {
   "cell_type": "markdown",
   "id": "9354cf81",
   "metadata": {},
   "source": [
    "**Код ниже использует сеть, для получения прогноза:**"
   ]
  },
  {
   "cell_type": "code",
   "execution_count": 6,
   "id": "ff112df1",
   "metadata": {},
   "outputs": [
    {
     "name": "stdout",
     "output_type": "stream",
     "text": [
      "1.0\n"
     ]
    }
   ],
   "source": [
    "number_of_toes = [8.5, 9.5, 10, 9]\n",
    "input = number_of_toes[2]\n",
    "pred = neural_network(input, weight)\n",
    "print(pred)"
   ]
  },
  {
   "cell_type": "markdown",
   "id": "f0203451",
   "metadata": {},
   "source": [
    "## Прогнозирование с несколькими входами"
   ]
  },
  {
   "cell_type": "code",
   "execution_count": null,
   "id": "44b72849",
   "metadata": {},
   "outputs": [],
   "source": [
    "def w_sum(a, b):\n",
    "    asser(len(a) == len(b))\n",
    "    output = 0\n",
    "    for i in range(len(a)):\n",
    "        output += (a[i] * b[i])\n",
    "    return output\n",
    "\n",
    "weights = [0.1, 0.2, 0]\n",
    "def neural_network(input, weights)"
   ]
  }
 ],
 "metadata": {
  "kernelspec": {
   "display_name": "Python 3",
   "language": "python",
   "name": "python3"
  },
  "language_info": {
   "codemirror_mode": {
    "name": "ipython",
    "version": 3
   },
   "file_extension": ".py",
   "mimetype": "text/x-python",
   "name": "python",
   "nbconvert_exporter": "python",
   "pygments_lexer": "ipython3",
   "version": "3.8.8"
  }
 },
 "nbformat": 4,
 "nbformat_minor": 5
}
